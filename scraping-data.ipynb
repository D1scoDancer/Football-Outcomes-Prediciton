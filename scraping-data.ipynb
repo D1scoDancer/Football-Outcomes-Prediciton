{
 "cells": [
  {
   "cell_type": "markdown",
   "id": "1b943849",
   "metadata": {},
   "source": [
    "# Scraping data from https://www.footballcritic.com/"
   ]
  },
  {
   "cell_type": "code",
   "execution_count": 16,
   "id": "ea4e3b49",
   "metadata": {},
   "outputs": [],
   "source": [
    "import requests\n",
    "from bs4 import BeautifulSoup\n",
    "import re\n",
    "\n",
    "def getAllMatches(link):\n",
    "    page = requests.get(link)\n",
    "    soup = BeautifulSoup(page.content, 'html.parser')\n",
    "    \n",
    "    for li_element in soup.find_all('li', {'class': None}):\n",
    "        span_element = li_element.find('span', {'class': 'venue'})\n",
    "        if span_element:\n",
    "            score_element = li_element.find('span', {'class': 'score-text'})\n",
    "            score = score_element.text.strip() if score_element else None\n",
    "\n",
    "            # Extracting teams\n",
    "            teams_elements = li_element.find_all('div', {'class': 'info-box'})\n",
    "            team_names = [element.find('span', {'class': 'text'}).text.strip() for element in teams_elements]\n",
    "\n",
    "            # Extracting date\n",
    "            date_element = li_element.find('time', {'class': 'match-date'})\n",
    "            date = date_element['datetime'] if date_element else None\n",
    "\n",
    "            matches.append({'team1': team_names[0], 'team2': team_names[1], 'score': score, 'date': date, \n",
    "                            'season': '/'.join(link.split('/')[4].split('-')[1:])})"
   ]
  },
  {
   "cell_type": "code",
   "execution_count": 17,
   "id": "6e0e80e7",
   "metadata": {},
   "outputs": [],
   "source": [
    "page = requests.get('https://www.footballcritic.com/premier-league/season-1950-1951/matches/2/44')\n",
    "soup = BeautifulSoup(page.content, 'html.parser')\n",
    "\n",
    "links = [option['value'] for option in reversed(soup.select('select#tableSelecting option'))]"
   ]
  },
  {
   "cell_type": "code",
   "execution_count": 18,
   "id": "b990f93e",
   "metadata": {},
   "outputs": [
    {
     "data": {
      "text/plain": [
       "74"
      ]
     },
     "execution_count": 18,
     "metadata": {},
     "output_type": "execute_result"
    }
   ],
   "source": [
    "len(links)"
   ]
  },
  {
   "cell_type": "code",
   "execution_count": 19,
   "id": "c1846a4e",
   "metadata": {},
   "outputs": [],
   "source": [
    "matches = []\n",
    "\n",
    "for link in links:\n",
    "    getAllMatches(link)"
   ]
  },
  {
   "cell_type": "code",
   "execution_count": 20,
   "id": "2eb8f934",
   "metadata": {},
   "outputs": [
    {
     "data": {
      "text/plain": [
       "31522"
      ]
     },
     "execution_count": 20,
     "metadata": {},
     "output_type": "execute_result"
    }
   ],
   "source": [
    "len(matches)"
   ]
  },
  {
   "cell_type": "code",
   "execution_count": 21,
   "id": "fb45a29f",
   "metadata": {},
   "outputs": [
    {
     "name": "stdout",
     "output_type": "stream",
     "text": [
      "Data has been successfully written to EPL data with seasons.csv\n"
     ]
    }
   ],
   "source": [
    "import csv\n",
    "\n",
    "csv_name = \"EPL data with seasons.csv\"\n",
    "\n",
    "headers = ['team1', 'team2', 'score', 'date', 'season']\n",
    "\n",
    "with open(csv_name, 'w', newline='', encoding='utf-8') as csvfile:\n",
    "    csv_writer = csv.DictWriter(csvfile, fieldnames=headers)\n",
    "    csv_writer.writeheader()\n",
    "    csv_writer.writerows(matches)\n",
    "\n",
    "print(f'Data has been successfully written to {csv_name}')"
   ]
  },
  {
   "cell_type": "code",
   "execution_count": null,
   "id": "c5b4d794",
   "metadata": {},
   "outputs": [],
   "source": []
  }
 ],
 "metadata": {
  "kernelspec": {
   "display_name": "Python 3 (ipykernel)",
   "language": "python",
   "name": "python3"
  },
  "language_info": {
   "codemirror_mode": {
    "name": "ipython",
    "version": 3
   },
   "file_extension": ".py",
   "mimetype": "text/x-python",
   "name": "python",
   "nbconvert_exporter": "python",
   "pygments_lexer": "ipython3",
   "version": "3.10.9"
  }
 },
 "nbformat": 4,
 "nbformat_minor": 5
}
